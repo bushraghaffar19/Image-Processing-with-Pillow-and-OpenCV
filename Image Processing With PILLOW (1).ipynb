{
 "cells": [
  {
   "cell_type": "markdown",
   "id": "5d9eadea",
   "metadata": {},
   "source": [
    "# Image Processing With PILLOW Library (PIL)"
   ]
  },
  {
   "cell_type": "code",
   "execution_count": null,
   "id": "e06b2d1c",
   "metadata": {},
   "outputs": [],
   "source": [
    "#you can find the path of image by using following lines of code\n",
    "\n",
    "import os\n",
    "cwd = os.getcwd()\n",
    "cwd\n",
    "my_image = \"lenna.png\"\n",
    "image_path = os.path.join(cwd , my_image)\n",
    "image_path"
   ]
  },
  {
   "cell_type": "code",
   "execution_count": null,
   "id": "ccd1ee94",
   "metadata": {},
   "outputs": [],
   "source": [
    "#Loading an image with filename\n",
    "\n",
    "from PIL import Image\n",
    "image = Image.open(my_image)\n",
    "image\n",
    "\n",
    "#loading an image using file path\n",
    "\n",
    "image = Image.open(image_path)\n",
    "image"
   ]
  },
  {
   "cell_type": "code",
   "execution_count": null,
   "id": "34c137f7",
   "metadata": {
    "scrolled": false
   },
   "outputs": [],
   "source": [
    "#Plotting an Image\n",
    "\n",
    "import matplotlib.pyplot as plt\n",
    "plt.figure(figsize=(10,10))\n",
    "plt.imshow(image)"
   ]
  },
  {
   "cell_type": "code",
   "execution_count": null,
   "id": "54f08659",
   "metadata": {},
   "outputs": [],
   "source": [
    "#save image in different format\n",
    "\n",
    "image.save(\"lenna.jpg\")"
   ]
  },
  {
   "cell_type": "code",
   "execution_count": null,
   "id": "438cec9b",
   "metadata": {},
   "outputs": [],
   "source": [
    "#Gray Scale Images\n",
    "\n",
    "from PIL import ImageOps\n",
    "image_gray = ImageOps.grayscale(image)\n",
    "image_gray"
   ]
  },
  {
   "cell_type": "code",
   "execution_count": null,
   "id": "5bfa65cb",
   "metadata": {},
   "outputs": [],
   "source": [
    "#Quantization(number of unique intensity values)\n",
    "\n",
    "def get_concat_h(im1, im2):\n",
    "    dst = Image.new('RGB', (im1.width + im2.width, im1.height))\n",
    "    dst.paste(im1, (0, 0))\n",
    "    dst.paste(im2, (im1.width, 0))\n",
    "    return dst\n",
    "\n",
    "for n in range(3,8):\n",
    "    plt.figure(figsize=(10,10))\n",
    "    plt.imshow(get_concat_h(image_gray,  image_gray.quantize(256//2**n))) \n",
    "    plt.title(\"256 Quantization Levels  left vs {}  Quantization Levels right\".format(256//2**n))\n",
    "    plt.show()"
   ]
  },
  {
   "cell_type": "code",
   "execution_count": null,
   "id": "72608250",
   "metadata": {},
   "outputs": [],
   "source": [
    "#color Channels\n",
    "\n",
    "baboon =Image.open(\"baboon.png\")\n",
    "baboon"
   ]
  },
  {
   "cell_type": "code",
   "execution_count": null,
   "id": "ad57b799",
   "metadata": {},
   "outputs": [],
   "source": [
    "red, green, blue = baboon.split()\n",
    "red, green, blue"
   ]
  },
  {
   "cell_type": "code",
   "execution_count": null,
   "id": "e24ab3c4",
   "metadata": {},
   "outputs": [],
   "source": [
    "#Plotting the color image next to the red channel as a grayscale, we see that regions with red have higher intensity values.\n",
    "\n",
    "get_concat_h(baboon, red)"
   ]
  },
  {
   "cell_type": "code",
   "execution_count": null,
   "id": "6f536d90",
   "metadata": {},
   "outputs": [],
   "source": [
    "#Plotting the color image next to the green channel as a grayscale\n",
    "\n",
    "get_concat_h(baboon, green)"
   ]
  },
  {
   "cell_type": "code",
   "execution_count": null,
   "id": "f6e15cf5",
   "metadata": {},
   "outputs": [],
   "source": [
    "#Plotting the color image next to the blue channel as a grayscale\n",
    "\n",
    "get_concat_h(baboon, blue)"
   ]
  },
  {
   "cell_type": "code",
   "execution_count": null,
   "id": "8cf6f764",
   "metadata": {},
   "outputs": [],
   "source": [
    "# PIL Image to numpy array\n",
    "# 'np.asarray' turns the original image to numpy array while 'np.array' makes a copy of image and then turns it into array\n",
    "\n",
    "import numpy as np\n",
    "array = np.array(image)\n",
    "array"
   ]
  },
  {
   "cell_type": "code",
   "execution_count": null,
   "id": "ad8b7d6e",
   "metadata": {},
   "outputs": [],
   "source": [
    "# The shape attribute of numpy gives (rows, columns, colors) of the image\n",
    "array.shape"
   ]
  },
  {
   "cell_type": "code",
   "execution_count": null,
   "id": "6104bb18",
   "metadata": {},
   "outputs": [],
   "source": [
    "# Indexing\n",
    "# you can plot array as an image\n",
    "\n",
    "plt.figure(figsize=(10,10))\n",
    "plt.imshow(array)\n",
    "plt.show()"
   ]
  },
  {
   "cell_type": "code",
   "execution_count": null,
   "id": "6065bd8d",
   "metadata": {},
   "outputs": [],
   "source": [
    "# We can use numpy slicing, for example, we can return the first 256 rows corresponding to the top half of the image:\n",
    "\n",
    "rows = 256\n",
    "plt.figure(figsize=(10,10))\n",
    "plt.imshow(array[0:rows,:,:])\n",
    "plt.show()"
   ]
  },
  {
   "cell_type": "code",
   "execution_count": null,
   "id": "2b174690",
   "metadata": {},
   "outputs": [],
   "source": [
    "# We can also return the first 256 columns corresponding to the first half of the image.\n",
    "\n",
    "columns = 256\n",
    "plt.figure(figsize=(10,10))\n",
    "plt.imshow(array[:,0:columns,:])\n",
    "plt.show()"
   ]
  },
  {
   "cell_type": "code",
   "execution_count": null,
   "id": "50ce4aba",
   "metadata": {},
   "outputs": [],
   "source": [
    "# We can plot the red channel as intensity values of the red channel.\n",
    "\n",
    "baboon_array = np.array(baboon)\n",
    "plt.figure(figsize=(10,10))\n",
    "plt.imshow(baboon_array[:,:,0], cmap='gray')\n",
    "plt.show()"
   ]
  },
  {
   "cell_type": "code",
   "execution_count": null,
   "id": "7f965e2e",
   "metadata": {},
   "outputs": [],
   "source": [
    "# we can create a new array and set all but the red color channels to zero. Therefore, when we display the image it appears red:\n",
    "baboon_red = baboon_array.copy()\n",
    "baboon_red[:,:,1]=0\n",
    "baboon_red[:,:,2]=0\n",
    "plt.figure(figsize=(10,10))\n",
    "plt.imshow(baboon_red)\n",
    "plt.show()"
   ]
  },
  {
   "cell_type": "code",
   "execution_count": null,
   "id": "85a62ba1",
   "metadata": {},
   "outputs": [],
   "source": [
    "# we can create a new array and set all but the blue color channels to zero. Therefore, when we display the image it appears blue:\n",
    "baboon_blue = baboon_array.copy()\n",
    "baboon_blue[:,:,1]=0\n",
    "baboon_blue[:,:,0]=0\n",
    "plt.figure(figsize=(10,10))\n",
    "plt.imshow(baboon_blue)\n",
    "plt.show()"
   ]
  },
  {
   "cell_type": "code",
   "execution_count": null,
   "id": "a412e6ab",
   "metadata": {},
   "outputs": [],
   "source": [
    "# we can create a new array and set all but the green color channels to zero. Therefore, when we display the image it appears green:\n",
    "baboon_green = baboon_array.copy()\n",
    "baboon_green[:,:,2]=0\n",
    "baboon_green[:,:,0]=0\n",
    "plt.figure(figsize=(10,10))\n",
    "plt.imshow(baboon_green)\n",
    "plt.show()"
   ]
  },
  {
   "cell_type": "code",
   "execution_count": null,
   "id": "8a431005",
   "metadata": {},
   "outputs": [],
   "source": [
    "# Use the image lenna.png or take any image.\n",
    "# Open the image and create a PIL Image object called blue_lenna,\n",
    "# convert the image into a numpy array we can manipulate called blue_array, \n",
    "# get the blue channel out of it, and finally plot the image\n",
    "\n",
    "from PIL import Image\n",
    "blue_lenna = Image.open(\"lenna.png\")\n",
    "import numpy as np\n",
    "import matplotlib.pyplot as plt\n",
    "blue_array = np.array(blue_lenna)\n",
    "blue_channel = blue_array.copy()\n",
    "blue_channel[:,:,2]=0\n",
    "plt.figure(figsize=(10,10))\n",
    "plt.imshow(blue_channel)\n",
    "plt.show()"
   ]
  },
  {
   "cell_type": "code",
   "execution_count": null,
   "id": "9a11d700",
   "metadata": {},
   "outputs": [],
   "source": []
  }
 ],
 "metadata": {
  "kernelspec": {
   "display_name": "Python 3 (ipykernel)",
   "language": "python",
   "name": "python3"
  },
  "language_info": {
   "codemirror_mode": {
    "name": "ipython",
    "version": 3
   },
   "file_extension": ".py",
   "mimetype": "text/x-python",
   "name": "python",
   "nbconvert_exporter": "python",
   "pygments_lexer": "ipython3",
   "version": "3.9.7"
  }
 },
 "nbformat": 4,
 "nbformat_minor": 5
}
